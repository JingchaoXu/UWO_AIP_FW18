{
 "cells": [
  {
   "cell_type": "markdown",
   "metadata": {},
   "source": [
    "<h1 align=\"center\">Advanced Image Processing and Analysis</h1>\n",
    "<h3 align=\"center\">ECE 4438B/ECE 9022/ECE 9202B/BIOMED 9519B/BIOPHYS 9519B/CAMI 9519B</h3>\n",
    "<h4 align=\"center\"><a href=\"mailto:echen29@uwo.ca\"> Elvis Chen, PhD, LL</a></h4>\n",
    "<h4 align=\"center\">Robarts Research Institute, London</h4>\n",
    "<h4 align=\"center\">Department of Electrical and Computer Engineering, Western University</h4>\n",
    "<h4 align=\"center\">School of Biomedical Engineering, Western University</h4>\n",
    "<h4 align=\"center\">Department of Medical Biophysics, Western University</h4>\n",
    "<h4 align=\"center\">Day 03, January 14, 2019</h4>"
   ]
  },
  {
   "cell_type": "markdown",
   "metadata": {},
   "source": [
    "#### Introduction\n",
    "So far, we have covered the following:\n",
    "* Python as a programming language:\n",
    "  * numerical operations\n",
    "  * string operations\n",
    "  * list operations\n",
    "  * indexing and slicing of string/list\n",
    "  * writing a simple module\n",
    "  * scope of variables\n",
    "\n",
    "With these basic knowledge, we are now able to work with images.\n",
    "\n",
    "But first, lets define some terminology:\n",
    "\n",
    "[<b>Image</b>](https://en.oxforddictionaries.com/definition/image) as defined by Oxford Dirctionaries: \n",
    "* A representation of the external form of a person or thing\n",
    "* A visible impression obtained by a camera, telescope, microscope, or other device, or displayed on a computer or video screen\n",
    "* A mental representation or idea\n",
    "\n",
    "All these are valid definition, because:\n",
    "\n",
    "(Let's download some medical images and display them)"
   ]
  },
  {
   "cell_type": "code",
   "execution_count": null,
   "metadata": {},
   "outputs": [],
   "source": [
    "# let's load a \"volume\" and display a slice (image) of a brain\n",
    "\n",
    "# we need to use some functions in Simple ITK:\n",
    "import SimpleITK as sitk\n",
    "\n",
    "%run update_path_to_download_script\n",
    "from downloaddata import fetch_data, fetch_data_all\n",
    "\n",
    "print(sitk.Version()) # make sure we have loaded SimpleITK successfully and ran a script that allows us to download some data"
   ]
  },
  {
   "cell_type": "code",
   "execution_count": null,
   "metadata": {},
   "outputs": [],
   "source": [
    "# In this command, we are executing 3 different commands in a single line of pythong code\n",
    "#\n",
    "# fetch_data is a script that will download a file of a given name, and result it as an output\n",
    "# \n",
    "# ReadImage converts it into an internal SimpleITK image format\n",
    "#\n",
    "# as we've seen in the previous tutorial, Show will launch an external program (in our case, ImageJ) to display the image\n",
    "\n",
    "sitk.Show(sitk.ReadImage(fetch_data(\"cthead1.png\"))) # image of head in CT"
   ]
  },
  {
   "cell_type": "code",
   "execution_count": null,
   "metadata": {},
   "outputs": [],
   "source": [
    "# let's load another image: head in MRI\n",
    "sitk.Show(sitk.ReadImage(fetch_data(\"B2.tiff\"))) "
   ]
  },
  {
   "cell_type": "markdown",
   "metadata": {},
   "source": [
    "<b>Question:</b> Does it look like a brain? \n",
    "* what is the colour of the skin?\n",
    "* what is the colour of the white matter?\n",
    "* what is the colour of the gray matter?\n",
    "* what is the colour of cerebrospinal fluid (CSF)?\n",
    "* what is the colour of the bone?\n",
    "* what does **colour** mean (in the context of medical imaging)?"
   ]
  },
  {
   "cell_type": "markdown",
   "metadata": {},
   "source": [
    "<b>Image == Imaging</b>\n",
    "* imaging (physics)\n",
    "  * How an image is formed depends on the physics of acquisition, hence the same anatomy will have different appearances in different image modalities\n",
    "    * in general, the appearance of an object in x-ray/CT correlates with its electron density: higher density ==> brighter pixel/voxel in x-ray/CT. For example, bone is brighter than the surrounding soft tissues\n",
    "      * since most soft tissues in the body are of a similar density, the contrast resolution of x-ray/CT is low for soft-tissues\n",
    "      * excellent for imaging dense tissues and is therefore commonly used to visualize the skeletal anatomy and vascular structures (using injected x-ray opaque contrast agent)\n",
    "    * MRI, or magnetic resonance imaging, is a scanning technique in which an artificial magnetic field is created to excite/align magnetic (i.e. water) molecules, which builds up its potential energy. When the field is turned off, the protons gradually return to their normal state which releases the stored potential energy as a form of radio signal that can be measured by receivers in the MRI scanner\n",
    "      * consult page 49 of Image-Guided Interventions (editor: Peters and Cleary) for more details,\n",
    "      * excellent for soft tissue differentiation and be used to separately visualize normal and pathological tissues\n",
    "    * US, or ultrasound, scanner generate pulses of sound which propagate through tissue and reflect energy back when contacting overlapping tissues\n",
    "      * detect the interface between two sound-transmitting medium (when speed-of-sound are different)\n",
    "  * designing advanced image-processing algorithms requires a <b>deeper understanding of image formation</b>\n",
    "* imaging (interpretation)\n",
    "  * Some of these imaging modalities are not *natural* to human perception, hence, requires some **imagination**\n",
    "  * These two images are a slice of a *tomogrophic* volume, i.e. a slice-through-the-body\n",
    "  * Human vision, on the other hand, are evolved to perceive *projective* (3D->2D) images,\n",
    "  * we need to understand what 3D (or nD) images really mean, and how it is represented in computer\n",
    "  * understanding what you see an image requires a <b>deeper understanding of the scene</b> (i.e. anatomy)"
   ]
  },
  {
   "cell_type": "code",
   "execution_count": null,
   "metadata": {},
   "outputs": [],
   "source": [
    "# 3D volume example\n",
    "# vol = sitk.ReadImage('..\\data\\\\volumes\\grayscale.nrrd')\n",
    "\n",
    "vol = sitk.ReadImage('..\\Data\\\\training_001_ct.mha')"
   ]
  },
  {
   "cell_type": "code",
   "execution_count": null,
   "metadata": {},
   "outputs": [],
   "source": [
    "# display the entire 3D volume in ImageJ\n",
    "sitk.Show(vol)"
   ]
  },
  {
   "cell_type": "markdown",
   "metadata": {},
   "source": [
    "Using ImageJ to display this volume, note the following: \n",
    "\n",
    "<img src=\"training_001_ct_screenshot1.png\" style=\"width:600px\"/><br><br>"
   ]
  },
  {
   "cell_type": "markdown",
   "metadata": {},
   "source": [
    "**Question**: what are we looking at?\n",
    "\n",
    "Other things to note:\n",
    "* the header of ImageJ\n",
    "  * what does 1/29 mean?\n",
    "  * what does 334.64x334.64mm mean?\n",
    "  * what does 512x512 mean?\n",
    "  * what does 16-bit mean?\n",
    "* the footer of ImageJ\n",
    "  * what does the slider bar do?"
   ]
  },
  {
   "cell_type": "markdown",
   "metadata": {},
   "source": [
    "<b>Terminology</b>\n",
    "* [**pixel**](https://en.wikipedia.org/wiki/Pixel): a minute area on a display screen/pixture, one of many from which an image is composed\n",
    "  * a base unit, a single piece of data, ...\n",
    "  * stored in computer by a number, or a tuple\n",
    "    * a monochrome pixel is represented by a single number, (e.g. CT)\n",
    "    * but a pixel may have multiple channels: a typical digital camera takes pictures in RGB channels, hence a pixel can be represented by a tuple of [r,g,b] numbers\n",
    "    * The Microsoft Hololens that we saw on the 1st day of class as RGB+Depth (RGBD) camera\n",
    "  * in certain imaging modalities it may be possible to define the size of a pixel\n",
    "    * **spacing* refers to the distance between adjacent pixels\n",
    "    * not to be confused by the term **resolution**!\n",
    "      * *let's define the word resolution in the context of imaging* (as opposed to, for example, resolution of a computer monitor)\n",
    "  * 2D\n",
    "* [**voxel**](https://en.wikipedia.org/wiki/Voxel): a pixel in 3D"
   ]
  },
  {
   "cell_type": "markdown",
   "metadata": {},
   "source": [
    "The variable `vol` is stored as an ITK class called Image. We can use the command `print` to display the particular of this instance of class:"
   ]
  },
  {
   "cell_type": "code",
   "execution_count": null,
   "metadata": {
    "scrolled": true
   },
   "outputs": [],
   "source": [
    "print(vol)"
   ]
  },
  {
   "cell_type": "markdown",
   "metadata": {},
   "source": [
    "Several things to note:\n",
    "* the volume is stored in the computer as a 3D array\n",
    "  * each element in the array is of the type `short`\n",
    "* what is the `size` of the array, i.e. how many voxels are there?\n",
    "* what is the `spacing` between the voxel?\n",
    "  * another way to ask the question is: what is the size of a voxel?\n",
    "* knowing the size of the voxel, what is the physical size of this volumn?\n",
    "* there are other attributes associate with the itk::Image class, but we will ignore them for now"
   ]
  },
  {
   "cell_type": "code",
   "execution_count": null,
   "metadata": {},
   "outputs": [],
   "source": [
    "# some of the class accessors\n",
    "\n",
    "# what does each of these mean?\n",
    "print(vol.GetSize())\n",
    "print(vol.GetOrigin())\n",
    "print(vol.GetSpacing())\n",
    "print(vol.GetDirection())\n",
    "print(vol.GetNumberOfComponentsPerPixel())"
   ]
  },
  {
   "cell_type": "markdown",
   "metadata": {},
   "source": [
    "<h1 align=\"center\">Images</h1>\n",
    "\n",
    "<table width=\"100%\">\n",
    "<tr style=\"background-color: red;\"><td><font color=\"white\">SimpleITK conventions:</font></td></tr>\n",
    "<tr><td>\n",
    "<ul>\n",
    "<li>Image access is in x,y,z order, image.GetPixel(x,y,z) or image[x,y,z], with zero based indexing.</li>\n",
    "<li>If the output of an ITK filter has non-zero starting index, then the index will be set to 0, and the origin adjusted accordingly.</li>\n",
    "</ul>\n",
    "</td></tr>\n",
    "</table>\n",
    "\n",
    "The unique feature of SimpleITK (derived from ITK) as a toolkit for image manipulation and analysis is that it views <b>images as physical objects occupying a bounded region in physical space</b>. In addition images can have different spacing between pixels along each axis, and the axes are not necessarily orthogonal. The following figure illustrates these concepts. \n",
    "\n",
    "<img src=\"ImageOriginAndSpacing.png\" style=\"width:700px\"/><br><br>\n",
    "\n",
    "\n",
    "\n",
    "### Pixel Types\n",
    "\n",
    "The pixel type is represented as an enumerated type. The following is a table of the enumerated list.\n",
    "\n",
    "<table>\n",
    "  <tr><td>sitkUInt8</td><td>Unsigned 8 bit integer</td></tr>\n",
    "  <tr><td>sitkInt8</td><td>Signed 8 bit integer</td></tr>\n",
    "  <tr><td>sitkUInt16</td><td>Unsigned 16 bit integer</td></tr>\n",
    "  <tr><td>sitkInt16</td><td>Signed 16 bit integer</td></tr>\n",
    "  <tr><td>sitkUInt32</td><td>Unsigned 32 bit integer</td></tr>\n",
    "  <tr><td>sitkInt32</td><td>Signed 32 bit integer</td></tr>\n",
    "  <tr><td>sitkUInt64</td><td>Unsigned 64 bit integer</td></tr>\n",
    "  <tr><td>sitkInt64</td><td>Signed 64 bit integer</td></tr>\n",
    "  <tr><td>sitkFloat32</td><td>32 bit float</td></tr>\n",
    "  <tr><td>sitkFloat64</td><td>64 bit float</td></tr>\n",
    "  <tr><td>sitkComplexFloat32</td><td>complex number of 32 bit float</td></tr>\n",
    "  <tr><td>sitkComplexFloat64</td><td>complex number of 64 bit float</td></tr>\n",
    "  <tr><td>sitkVectorUInt8</td><td>Multi-component of unsigned 8 bit integer</td></tr>\n",
    "  <tr><td>sitkVectorInt8</td><td>Multi-component of signed 8 bit integer</td></tr>\n",
    "  <tr><td>sitkVectorUInt16</td><td>Multi-component of unsigned 16 bit integer</td></tr>\n",
    "  <tr><td>sitkVectorInt16</td><td>Multi-component of signed 16 bit integer</td></tr>\n",
    "  <tr><td>sitkVectorUInt32</td><td>Multi-component of unsigned 32 bit integer</td></tr>\n",
    "  <tr><td>sitkVectorInt32</td><td>Multi-component of signed 32 bit integer</td></tr>\n",
    "  <tr><td>sitkVectorUInt64</td><td>Multi-component of unsigned 64 bit integer</td></tr>\n",
    "  <tr><td>sitkVectorInt64</td><td>Multi-component of signed 64 bit integer</td></tr>\n",
    "  <tr><td>sitkVectorFloat32</td><td>Multi-component of 32 bit float</td></tr>\n",
    "  <tr><td>sitkVectorFloat64</td><td>Multi-component of 64 bit float</td></tr>\n",
    "  <tr><td>sitkLabelUInt8</td><td>RLE label of unsigned 8 bit integers</td></tr>\n",
    "  <tr><td>sitkLabelUInt16</td><td>RLE label of unsigned 16 bit integers</td></tr>\n",
    "  <tr><td>sitkLabelUInt32</td><td>RLE label of unsigned 32 bit integers</td></tr>\n",
    "  <tr><td>sitkLabelUInt64</td><td>RLE label of unsigned 64 bit integers</td></tr>\n",
    "</table>\n",
    "\n",
    "There is also `sitkUnknown`, which is used for undefined or erroneous pixel ID's. It has a value of -1.\n",
    "\n",
    "The 64-bit integer types are not available on all distributions. When not available the value is `sitkUnknown`."
   ]
  },
  {
   "cell_type": "markdown",
   "metadata": {},
   "source": [
    "To understand what image origin mean, let's take a look at an example:\n",
    "\n",
    "Refer to the article [A Night Out of the Museum: Mummies In The CT Scanner](http://newsroom.gehealthcare.com/night-out-of-the-museum-mummies-in-the-ct-scanner/) as an example of medical imaging and image processing:\n",
    "\n",
    "Mummies in CT:\n",
    "![mummies in CT](http://newsroom.gehealthcare.com/wp-content/uploads/2016/10/escaneo-momia-guanche-c-699x466.jpg)\n",
    "\n",
    "The circular object in the CT scanner is the *gantry*: it is a rotating frame with an x-ray tube mounted on one size and a detector on the opposite side. During the scan, the patient lines on a table that is moved through the gantry.\n",
    "\n",
    "The **image origin**, i.e. the beginning of the volume, can be arbitrary defined: the edge of the table, or (after reconstruction) 1st slice containing the patient anatomy."
   ]
  },
  {
   "cell_type": "markdown",
   "metadata": {},
   "source": [
    "Since bones show up as bright regions in CT, it can be **segmented** by thresholding:\n",
    "    \n",
    "![bones in CT](http://newsroom.gehealthcare.com/wp-content/uploads/2016/10/Momia-1-plano.gif)"
   ]
  },
  {
   "cell_type": "markdown",
   "metadata": {},
   "source": [
    "Advanced visualization can be achieved via [volume rendering and transfer functions](https://en.wikipedia.org/wiki/Volume_rendering):\n",
    "![transfer function and volume rendering](http://newsroom.gehealthcare.com/wp-content/uploads/2016/10/Mummy_animation_1-c.gif)\n",
    "\n",
    "but this is a subject more relevant to **computer graphics** than image processing/analysis."
   ]
  },
  {
   "cell_type": "markdown",
   "metadata": {},
   "source": [
    "## Image Construction\n",
    "\n",
    "There are a variety of ways to create an image. All images' initial value is well defined as zero."
   ]
  },
  {
   "cell_type": "code",
   "execution_count": null,
   "metadata": {},
   "outputs": [],
   "source": [
    "image = sitk.Image(256, 128, 64, sitk.sitkInt16)"
   ]
  },
  {
   "cell_type": "markdown",
   "metadata": {},
   "source": [
    "What does each of does do?\n",
    "* First one create a 3D volume of size [256, 128, 64], each voxel is of type 16-bit integer\n",
    "  * what is the width, length, and depth?\n",
    "  * what is the pixel size/spacing?"
   ]
  },
  {
   "cell_type": "code",
   "execution_count": null,
   "metadata": {},
   "outputs": [],
   "source": [
    "print(image.GetWidth())\n",
    "print(image.GetHeight())\n",
    "print(image.GetDepth())\n",
    "print(image.GetSpacing())"
   ]
  },
  {
   "cell_type": "markdown",
   "metadata": {},
   "source": [
    "Since the dimension  and pixel type of a SimpleITK image is determined at run-time accessors are needed. "
   ]
  },
  {
   "cell_type": "code",
   "execution_count": null,
   "metadata": {},
   "outputs": [],
   "source": [
    "image_2D = sitk.Image(64, 64, sitk.sitkFloat32)\n",
    "image_2D = sitk.Image([32,32], sitk.sitkUInt32)"
   ]
  },
  {
   "cell_type": "markdown",
   "metadata": {},
   "source": [
    "Note the input parameters (class overloading) and data types.\n",
    "\n",
    "**Question**: How many channels are there?"
   ]
  },
  {
   "cell_type": "code",
   "execution_count": null,
   "metadata": {},
   "outputs": [],
   "source": [
    "print(image_2D.GetNumberOfComponentsPerPixel())"
   ]
  },
  {
   "cell_type": "markdown",
   "metadata": {},
   "source": [
    "**Question**: What is the depth of a 2D image?"
   ]
  },
  {
   "cell_type": "code",
   "execution_count": null,
   "metadata": {},
   "outputs": [],
   "source": [
    "print(image_2D.GetSize())\n",
    "print(image_2D.GetDepth())"
   ]
  },
  {
   "cell_type": "markdown",
   "metadata": {},
   "source": [
    "**Python Question**: why this size, and what is the data type here?"
   ]
  },
  {
   "cell_type": "code",
   "execution_count": null,
   "metadata": {},
   "outputs": [],
   "source": [
    "print(image_2D.GetPixelIDTypeAsString())"
   ]
  },
  {
   "cell_type": "code",
   "execution_count": null,
   "metadata": {},
   "outputs": [],
   "source": [
    "image_RGB = sitk.Image([128,128], sitk.sitkVectorUInt8, 3)"
   ]
  },
  {
   "cell_type": "markdown",
   "metadata": {},
   "source": [
    "What does the input parameter `3` does for us?"
   ]
  },
  {
   "cell_type": "code",
   "execution_count": null,
   "metadata": {},
   "outputs": [],
   "source": [
    "print(image_RGB.GetNumberOfComponentsPerPixel())"
   ]
  },
  {
   "cell_type": "markdown",
   "metadata": {},
   "source": [
    "**Question**: Is this a 2D image or 3D volume? What is the difference?"
   ]
  },
  {
   "cell_type": "code",
   "execution_count": null,
   "metadata": {},
   "outputs": [],
   "source": [
    "print(image_RGB.GetDimension())\n",
    "print(image_RGB.GetSize())"
   ]
  },
  {
   "cell_type": "markdown",
   "metadata": {},
   "source": [
    "## Accessing Pixels\n",
    "\n",
    "There are the member functions ``GetPixel`` and ``SetPixel`` which provides an ITK-like interface for pixel access."
   ]
  },
  {
   "cell_type": "code",
   "execution_count": null,
   "metadata": {},
   "outputs": [],
   "source": [
    "help(image.GetPixel)"
   ]
  },
  {
   "cell_type": "code",
   "execution_count": null,
   "metadata": {},
   "outputs": [],
   "source": [
    "print(image.GetPixel(0, 0, 0))\n",
    "image.SetPixel(0, 0, 0, 1)\n",
    "print(image.GetPixel(0, 0, 0))"
   ]
  },
  {
   "cell_type": "code",
   "execution_count": null,
   "metadata": {},
   "outputs": [],
   "source": [
    "print(image[0,0,0])\n",
    "image[0,0,0] = 10\n",
    "print(image[0,0,0])"
   ]
  },
  {
   "cell_type": "markdown",
   "metadata": {},
   "source": [
    "One way to understand how an image/volume is stored in a computer is treat them as 2D/3D array with additional attributes. As such, the `[]` operator allows us to access pixel/voxel directly. Slicing operations (as we have seen from last week's class) also works here.\n",
    "\n",
    "Going back to `vol` we loaded earlier, we can display a slice of it by using the following command:"
   ]
  },
  {
   "cell_type": "code",
   "execution_count": null,
   "metadata": {},
   "outputs": [],
   "source": [
    "zSliceID = 50 # the 51th sliced in the z-direction\n",
    "sitk.Show(vol[:,:,zSliceID])"
   ]
  },
  {
   "cell_type": "markdown",
   "metadata": {},
   "source": [
    "## Conversion between numpy and SimpleITK\n",
    "\n",
    "[numpy](http://www.numpy.org/) is the fundamental package for scientific computing with Pythong. It contains, among other things:\n",
    "* a powerful N-dimensional array object\n",
    "* sophisticated (broadcasting) functions\n",
    "* tools for integrating C/C++ and Fortran code\n",
    "* useful linear algebra, Fourier transform, and random number capabilities\n",
    "* (for those of us who uses matlab) Matlab-like functionalities"
   ]
  },
  {
   "cell_type": "markdown",
   "metadata": {},
   "source": [
    "We can convert an SimpleITK Image into a numeric array:"
   ]
  },
  {
   "cell_type": "code",
   "execution_count": null,
   "metadata": {},
   "outputs": [],
   "source": [
    "nda = sitk.GetArrayFromImage(image)\n",
    "print(nda)"
   ]
  },
  {
   "cell_type": "code",
   "execution_count": null,
   "metadata": {},
   "outputs": [],
   "source": [
    "help(sitk.GetArrayFromImage)"
   ]
  },
  {
   "cell_type": "markdown",
   "metadata": {},
   "source": [
    "**what does deep copy mean**?"
   ]
  },
  {
   "cell_type": "code",
   "execution_count": null,
   "metadata": {},
   "outputs": [],
   "source": [
    "# Get a view of the image data as a numpy array, useful for display\n",
    "nda = sitk.GetArrayViewFromImage(image)"
   ]
  },
  {
   "cell_type": "code",
   "execution_count": null,
   "metadata": {},
   "outputs": [],
   "source": [
    "help(sitk.GetArrayViewFromImage)"
   ]
  },
  {
   "cell_type": "code",
   "execution_count": null,
   "metadata": {},
   "outputs": [],
   "source": [
    "print(nda)"
   ]
  },
  {
   "cell_type": "code",
   "execution_count": null,
   "metadata": {},
   "outputs": [],
   "source": [
    "nda = sitk.GetArrayFromImage(image_RGB)\n",
    "img = sitk.GetImageFromArray(nda)\n",
    "img.GetSize()"
   ]
  },
  {
   "cell_type": "code",
   "execution_count": null,
   "metadata": {},
   "outputs": [],
   "source": [
    "help(sitk.GetImageFromArray)"
   ]
  },
  {
   "cell_type": "markdown",
   "metadata": {},
   "source": [
    "Remember `image_RGB` is a 2D image with 3 channels. What is `img`?"
   ]
  },
  {
   "cell_type": "code",
   "execution_count": null,
   "metadata": {},
   "outputs": [],
   "source": [
    "image_RGB.GetSize()"
   ]
  },
  {
   "cell_type": "code",
   "execution_count": null,
   "metadata": {},
   "outputs": [],
   "source": [
    "img = sitk.GetImageFromArray(nda, isVector=True)\n",
    "print(img)"
   ]
  },
  {
   "cell_type": "code",
   "execution_count": null,
   "metadata": {},
   "outputs": [],
   "source": [
    "img.GetSize()"
   ]
  },
  {
   "cell_type": "code",
   "execution_count": null,
   "metadata": {},
   "outputs": [],
   "source": [
    "print(img.GetNumberOfComponentsPerPixel())"
   ]
  },
  {
   "cell_type": "markdown",
   "metadata": {},
   "source": [
    "## The order of index and dimensions need careful attention during conversion\n",
    "\n",
    "SimpleITK::Image has a GetPixel which takes an ITK Index object as an argument, which is an array ordered as ``(x,y,z)``. This is the convention that SimpleITK's Image class uses for the GetPixel method as well.\n",
    "\n",
    "While in numpy, an array is indexed in the opposite order ``(z,y,x)``."
   ]
  },
  {
   "cell_type": "code",
   "execution_count": null,
   "metadata": {},
   "outputs": [],
   "source": [
    "print(nda.shape)        # previously, nda = sitk.GetArrayFromImage(image_RGB)\n",
    "print(img.GetSize())    # previously, img = sitk.GetImageFromArray(nda, isVector=True)\n",
    "print(nda.shape[::-1])"
   ]
  },
  {
   "cell_type": "markdown",
   "metadata": {},
   "source": [
    "### Are we still dealing with Image, because I haven't seen one yet...\n",
    "\n",
    "While SimpleITK does not do visualization, it does contain a built in ``Show`` method. This function writes the image out to disk and than launches a program for visualization. By default it is configured to use ImageJ, because it is readily supports all the image types which SimpleITK has and load very quickly. However, it's easily customizable by setting environment variables."
   ]
  },
  {
   "cell_type": "code",
   "execution_count": null,
   "metadata": {},
   "outputs": [],
   "source": [
    "sitk.Show(image)"
   ]
  },
  {
   "cell_type": "code",
   "execution_count": null,
   "metadata": {},
   "outputs": [],
   "source": [
    "sitk.Show?"
   ]
  },
  {
   "cell_type": "markdown",
   "metadata": {},
   "source": [
    "By converting into a numpy array, matplotlib can be used for visualization for integration into the scientific python environment."
   ]
  },
  {
   "cell_type": "code",
   "execution_count": null,
   "metadata": {},
   "outputs": [],
   "source": [
    "%matplotlib inline\n",
    "import matplotlib.pyplot as plt"
   ]
  },
  {
   "cell_type": "code",
   "execution_count": null,
   "metadata": {},
   "outputs": [],
   "source": [
    "z = 0\n",
    "slice = sitk.GetArrayViewFromImage(image)[z,:,:]\n",
    "plt.imshow(slice)"
   ]
  },
  {
   "cell_type": "markdown",
   "metadata": {},
   "source": [
    "# SimpleITK Hello World Example\n",
    "In this example, we will use SimpleITK to create a smily face by creating and manupilating image array directly. The code is based on the [Python code](https://itk.org/SimpleITKDoxygen/html/HelloWorld_2HelloWorld_8py-example.html) available on ITK's website."
   ]
  },
  {
   "cell_type": "code",
   "execution_count": null,
   "metadata": {},
   "outputs": [],
   "source": [
    "# create an image\n",
    "pixelType = sitk.sitkUInt8\n",
    "imageSize = [128, 128]\n",
    "image     = sitk.Image(imageSize, pixelType) # note the location of ="
   ]
  },
  {
   "cell_type": "code",
   "execution_count": null,
   "metadata": {},
   "outputs": [],
   "source": [
    "# Create a face image\n",
    "faceSize   = [64, 64]\n",
    "faceCenter = [64, 64]\n",
    "face       = sitk.GaussianSource(pixelType, imageSize, faceSize, faceCenter)"
   ]
  },
  {
   "cell_type": "code",
   "execution_count": null,
   "metadata": {},
   "outputs": [],
   "source": [
    "# to visualize what GaussianSource does, we can display the image using the following code\n",
    "#\n",
    "# what is the code?"
   ]
  },
  {
   "cell_type": "markdown",
   "metadata": {},
   "source": [
    "**Enter the missing codes here**"
   ]
  },
  {
   "cell_type": "code",
   "execution_count": null,
   "metadata": {},
   "outputs": [],
   "source": [
    "# Create eye images\n",
    "eyeSize    = [5, 5]\n",
    "eye1Center = [48, 48]\n",
    "eye2Center = [80, 48]\n",
    "eye1       = sitk.GaussianSource(pixelType, imageSize, eyeSize, eye1Center, 150)\n",
    "eye2       = sitk.GaussianSource(pixelType, imageSize, eyeSize, eye2Center, 150) # what does \"150\" do?"
   ]
  },
  {
   "cell_type": "code",
   "execution_count": null,
   "metadata": {},
   "outputs": [],
   "source": [
    "# what is the command to display the function description (assuming it is embedded in the code by ``` ```)\n",
    "#\n",
    "# what is the code?"
   ]
  },
  {
   "cell_type": "markdown",
   "metadata": {},
   "source": [
    "We have seen 2 ways to display the help functions. What are they?  **Enter them here**"
   ]
  },
  {
   "cell_type": "code",
   "execution_count": null,
   "metadata": {},
   "outputs": [],
   "source": [
    "# Apply the eyes to the face\n",
    "face = face - eye1 - eye2\n",
    "face = sitk.BinaryThreshold(face, 200, 255, 255)"
   ]
  },
  {
   "cell_type": "code",
   "execution_count": null,
   "metadata": {},
   "outputs": [],
   "source": [
    "# Create the mouth\n",
    "mouthRadii  = [30, 20]\n",
    "mouthCenter = [64, 76]\n",
    "mouth       = 255 - sitk.BinaryThreshold( sitk.GaussianSource(pixelType, imageSize, mouthRadii, mouthCenter), 200, 255, 255)"
   ]
  },
  {
   "cell_type": "code",
   "execution_count": null,
   "metadata": {},
   "outputs": [],
   "source": [
    "# Paste the mouth into the face\n",
    "mouthSize = [64, 18]\n",
    "mouthLoc  = [32, 76]\n",
    "face      = sitk.Paste(face, mouth, mouthSize, mouthLoc, mouthLoc) "
   ]
  },
  {
   "cell_type": "code",
   "execution_count": null,
   "metadata": {},
   "outputs": [],
   "source": [
    "# apply the face to the original image\n",
    "image = image + face"
   ]
  },
  {
   "cell_type": "code",
   "execution_count": null,
   "metadata": {},
   "outputs": [],
   "source": [
    "# Display the result\n",
    "sitk.Show(image, title='Helloworld: Python', debugOn=True)"
   ]
  },
  {
   "cell_type": "markdown",
   "metadata": {},
   "source": [
    "Here, we have created our first SITK Image by direct array manipulation."
   ]
  }
 ],
 "metadata": {
  "kernelspec": {
   "display_name": "Python 3",
   "language": "python",
   "name": "python3"
  },
  "language_info": {
   "codemirror_mode": {
    "name": "ipython",
    "version": 3
   },
   "file_extension": ".py",
   "mimetype": "text/x-python",
   "name": "python",
   "nbconvert_exporter": "python",
   "pygments_lexer": "ipython3",
   "version": "3.6.8"
  }
 },
 "nbformat": 4,
 "nbformat_minor": 2
}
